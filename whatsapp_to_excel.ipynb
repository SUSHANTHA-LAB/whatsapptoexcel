{
  "nbformat": 4,
  "nbformat_minor": 0,
  "metadata": {
    "colab": {
      "provenance": []
    },
    "kernelspec": {
      "name": "python3",
      "display_name": "Python 3"
    },
    "language_info": {
      "name": "python"
    }
  },
  "cells": [
    {
      "cell_type": "code",
      "execution_count": null,
      "metadata": {
        "id": "ob0m7_PA15Il"
      },
      "outputs": [],
      "source": [
        "\n",
        "# Standard Python Libaries\n",
        "import urllib.request\n",
        "import os\n",
        "\n",
        "# Third Party Modules\n",
        "import pandas as pd # pip install pandas openpyxl"
      ]
    },
    {
      "cell_type": "code",
      "source": [
        "file_path = \"/content/All_Chats.txt\"\n",
        "\n",
        "with open(file_path, mode='r', encoding=\"utf8\") as f:\n",
        "    data = f.readlines()\n",
        "\n",
        "dataset = data[1:]\n",
        "cleaned_data = []\n",
        "for line in dataset:\n",
        "    # Check, whether it is a new line or not\n",
        "    # If the following characters are in the line -> assumption it is NOT a new line\n",
        "    if '/' in line and ':' in line and ',' in line and '-' in line:\n",
        "        # grab the info and cut it out\n",
        "        date = line.split(\",\")[0]\n",
        "        line2 = line[len(date):]\n",
        "        time = line2.split(\"-\")[0][2:]\n",
        "        line3 = line2[len(time):]\n",
        "        name = line3.split(\":\")[0][4:]\n",
        "        line4 = line3[len(name):]\n",
        "        message = line4[6:-1] # strip newline charactor\n",
        "        cleaned_data.append([date, time, name, message])\n",
        "    \n",
        "    # else, assumption -> new line. Append new line to previous 'message'\n",
        "    else:\n",
        "        new = cleaned_data[-1][-1] + \" \" + line\n",
        "        cleaned_data[-1][-1] = new    \n",
        "\n",
        "# Create the DataFrame\n",
        "df = pd.DataFrame(cleaned_data, columns = ['Date', 'Time', 'Name', 'Message'])\n",
        "# Save it to excel\n",
        "df.to_excel('chat_history.xlsx', index=False)"
      ],
      "metadata": {
        "id": "zP0I4fSS7Nez"
      },
      "execution_count": null,
      "outputs": []
    }
  ]
}